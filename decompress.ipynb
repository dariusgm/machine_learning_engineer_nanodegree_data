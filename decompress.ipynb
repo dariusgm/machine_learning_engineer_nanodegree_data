{
 "cells": [
  {
   "cell_type": "markdown",
   "metadata": {},
   "source": [
    "# Machine Learning Engineer Nanodegree\n",
    "## Capstone Project\n",
    "Darius Murawski\n",
    "12.09.2018"
   ]
  },
  {
   "cell_type": "markdown",
   "metadata": {},
   "source": [
    "This notebook will extract the data in parallel on your device. Assuming you downloaded all files over git and the directories are placed inside the current directory."
   ]
  },
  {
   "cell_type": "code",
   "execution_count": 18,
   "metadata": {},
   "outputs": [],
   "source": [
    "import os\n",
    "import glob\n",
    "import zipfile\n",
    "from joblib import Parallel, delayed"
   ]
  },
  {
   "cell_type": "code",
   "execution_count": 20,
   "metadata": {},
   "outputs": [],
   "source": [
    "all_files = glob.glob(os.path.join('drives', '*zip'))"
   ]
  },
  {
   "cell_type": "code",
   "execution_count": 21,
   "metadata": {},
   "outputs": [],
   "source": [
    "all_files += glob.glob(os.path.join('validate', '*zip'))"
   ]
  },
  {
   "cell_type": "code",
   "execution_count": 22,
   "metadata": {},
   "outputs": [],
   "source": [
    "all_files += glob.glob(os.path.join('test', '*zip'))"
   ]
  },
  {
   "cell_type": "code",
   "execution_count": 23,
   "metadata": {},
   "outputs": [],
   "source": [
    "all_files += glob.glob(os.path.join('train', '*zip'))"
   ]
  },
  {
   "cell_type": "code",
   "execution_count": 24,
   "metadata": {},
   "outputs": [],
   "source": [
    "all_files += glob.glob(os.path.join('drives_minified', '*zip'))"
   ]
  },
  {
   "cell_type": "code",
   "execution_count": 25,
   "metadata": {},
   "outputs": [],
   "source": [
    "def decompress(zipFile):\n",
    "    \"\"\"Decompress the generated results to be used by other users\"\"\"\n",
    "    if os.path.exists(zipFile):\n",
    "        with zipfile.ZipFile(zipFile) as myzip:\n",
    "            for compressed_file in myzip.namelist():\n",
    "                with myzip.open(compressed_file) as source_file:\n",
    "                    target_path = os.path.join(compressed_file.split('/')[1], compressed_file.split('/')[2])\n",
    "                    if not os.path.exists(target_path):\n",
    "                        with open(target_path, mode='wb') as target_file:\n",
    "                            target_file.write(source_file.read())\n",
    "      "
   ]
  },
  {
   "cell_type": "code",
   "execution_count": null,
   "metadata": {
    "scrolled": true
   },
   "outputs": [],
   "source": [
    "Parallel(n_jobs=1, backend=\"multiprocessing\", verbose=5)(delayed(decompress)(file) for file in all_files)\n",
    "print('done with decompress')    "
   ]
  },
  {
   "cell_type": "code",
   "execution_count": null,
   "metadata": {},
   "outputs": [],
   "source": []
  }
 ],
 "metadata": {
  "kernelspec": {
   "display_name": "Python 3",
   "language": "python",
   "name": "python3"
  },
  "language_info": {
   "codemirror_mode": {
    "name": "ipython",
    "version": 3
   },
   "file_extension": ".py",
   "mimetype": "text/x-python",
   "name": "python",
   "nbconvert_exporter": "python",
   "pygments_lexer": "ipython3",
   "version": "3.6.5"
  }
 },
 "nbformat": 4,
 "nbformat_minor": 2
}
